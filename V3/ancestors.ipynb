{
 "cells": [
  {
   "cell_type": "code",
   "execution_count": 1,
   "id": "initial_id",
   "metadata": {
    "collapsed": true,
    "ExecuteTime": {
     "end_time": "2024-02-15T13:20:40.154641Z",
     "start_time": "2024-02-15T13:20:39.224663Z"
    }
   },
   "outputs": [],
   "source": [
    "import json\n",
    "import os\n",
    "import pickle\n",
    "with open(os.path.join(\"ancestor_chains.pkl\"), \"rb\") as f:\n",
    "    ancestors = pickle.load(f)"
   ]
  },
  {
   "cell_type": "code",
   "outputs": [
    {
     "data": {
      "text/plain": "'{\"anc_tags\": [[\"thiourea\", \"organic chemistry\", \"chemistry\"], [\"urea\", \"organic chemistry\", \"chemistry\"], [\"urea\", \"biochemistry\", \"chemistry\"], [\"urea\", \"biochemistry\", \"biology\"], [\"catalysis\", \"biochemistry\", \"chemistry\"], [\"catalysis\", \"biochemistry\", \"biology\"], [\"catalysis\", \"organic chemistry\", \"chemistry\"]], \"anc_ids\": [[37853, 31978, 677], [53068, 31978, 677], [53068, 24260, 677], [53068, 24260, 38076], [35807, 24260, 677], [35807, 24260, 38076], [35807, 31978, 677]]}'"
     },
     "execution_count": 5,
     "metadata": {},
     "output_type": "execute_result"
    }
   ],
   "source": [
    "import json\n",
    "json.dumps(ancestors[1001])\n"
   ],
   "metadata": {
    "collapsed": false,
    "ExecuteTime": {
     "end_time": "2024-02-15T13:21:36.943099Z",
     "start_time": "2024-02-15T13:21:36.937513Z"
    }
   },
   "id": "a47c1054b441bb60",
   "execution_count": 5
  },
  {
   "cell_type": "code",
   "outputs": [],
   "source": [],
   "metadata": {
    "collapsed": false
   },
   "id": "789fab608b12864b"
  }
 ],
 "metadata": {
  "kernelspec": {
   "display_name": "Python 3",
   "language": "python",
   "name": "python3"
  },
  "language_info": {
   "codemirror_mode": {
    "name": "ipython",
    "version": 2
   },
   "file_extension": ".py",
   "mimetype": "text/x-python",
   "name": "python",
   "nbconvert_exporter": "python",
   "pygments_lexer": "ipython2",
   "version": "2.7.6"
  }
 },
 "nbformat": 4,
 "nbformat_minor": 5
}
